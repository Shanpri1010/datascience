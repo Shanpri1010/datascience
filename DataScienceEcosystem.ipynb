{
 "cells": [
  {
   "cell_type": "markdown",
   "id": "0dc288c7-579c-47d4-b2dc-028e5d010061",
   "metadata": {},
   "source": [
    "# Data Science Tools and Ecosystem"
   ]
  },
  {
   "cell_type": "markdown",
   "id": "b9c6a946-c4e5-463a-8e2f-d74e192688f9",
   "metadata": {},
   "source": [
    "## In this notebook, Data Science Tools and Ecosystem are summarized."
   ]
  },
  {
   "cell_type": "markdown",
   "id": "911e34e2-9cdf-43fc-b97e-5e2baff292f3",
   "metadata": {},
   "source": [
    "**OBJECTIVES COVERED**\n",
    "\n",
    "+ List of some popular languages for Data Science\n",
    "+ Some Commonly used libraries in Data Science\n",
    "+ Data Science Tools\n",
    "+ Basic Arithematic examples\n",
    "+ Displaying table formats in NOtebook"
   ]
  },
  {
   "cell_type": "markdown",
   "id": "70d136e0-5301-4bd6-b05f-cc4ad549608e",
   "metadata": {},
   "source": [
    "Some of the popular languages that Data Scientists use are:\n",
    "1. Python\n",
    "2. Julia\n",
    "3. Scala\n",
    "4. R"
   ]
  },
  {
   "cell_type": "markdown",
   "id": "1edca8a7-056c-4850-a692-028077813b26",
   "metadata": {},
   "source": [
    "Some of the commonly used libraries used by Data Scientists include:\n",
    "1. NumPy\n",
    "2. Pandas\n",
    "3. Seaborn\n",
    "4. TensorFlow"
   ]
  },
  {
   "cell_type": "markdown",
   "id": "d1583f1e-a0eb-4cd5-822e-3493608bc00d",
   "metadata": {},
   "source": [
    "| Data Science Tools |\n",
    "-----------------------\n",
    "| RStudio|\n",
    "| Apache Spark |\n",
    "| Apache Hadoop |"
   ]
  },
  {
   "cell_type": "markdown",
   "id": "67e556c0-26c0-407b-81eb-fa498ad7976b",
   "metadata": {},
   "source": [
    "### Below are a few examples of evaluating arithmetic expressions in Python"
   ]
  },
  {
   "cell_type": "code",
   "execution_count": 3,
   "id": "b7b10f77-7f58-47bd-9ad7-588f423d6275",
   "metadata": {
    "tags": []
   },
   "outputs": [
    {
     "data": {
      "text/plain": [
       "17"
      ]
     },
     "execution_count": 3,
     "metadata": {},
     "output_type": "execute_result"
    }
   ],
   "source": [
    "# This a simple arithmetic expression to mutiply then add integers\n",
    "\n",
    "(3*4)+5"
   ]
  },
  {
   "cell_type": "code",
   "execution_count": 4,
   "id": "6f8f8d76-59ca-4919-a419-a22ae493af67",
   "metadata": {
    "tags": []
   },
   "outputs": [
    {
     "data": {
      "text/plain": [
       "3.3333333333333335"
      ]
     },
     "execution_count": 4,
     "metadata": {},
     "output_type": "execute_result"
    }
   ],
   "source": [
    "# This will convert 200 minutes to hours by diving by 60\n",
    "\n",
    "200/60"
   ]
  },
  {
   "cell_type": "markdown",
   "id": "551e158e-babd-4c41-8db7-e4ffae026996",
   "metadata": {},
   "source": [
    "## Author\n",
    "Shanmuga Priya Vaiyapuri"
   ]
  },
  {
   "cell_type": "code",
   "execution_count": null,
   "id": "63131899-32b7-4e6b-97f4-24f67ef38863",
   "metadata": {},
   "outputs": [],
   "source": []
  }
 ],
 "metadata": {
  "kernelspec": {
   "display_name": "Python",
   "language": "python",
   "name": "conda-env-python-py"
  },
  "language_info": {
   "codemirror_mode": {
    "name": "ipython",
    "version": 3
   },
   "file_extension": ".py",
   "mimetype": "text/x-python",
   "name": "python",
   "nbconvert_exporter": "python",
   "pygments_lexer": "ipython3",
   "version": "3.7.12"
  }
 },
 "nbformat": 4,
 "nbformat_minor": 5
}
